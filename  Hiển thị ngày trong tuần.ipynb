{
 "cells": [
  {
   "cell_type": "code",
   "execution_count": 5,
   "id": "b111def6",
   "metadata": {},
   "outputs": [
    {
     "name": "stdout",
     "output_type": "stream",
     "text": [
      "Nhập vào 1 số (1-7): 7\n",
      "Sunday\n"
     ]
    }
   ],
   "source": [
    "day = int(input(\"Nhập vào 1 số (1-7): \"))\n",
    "if day == 1 :\n",
    "\tprint(\"Monday\")\n",
    "elif day == 2:\n",
    "\tprint(\"Tuesday\")\n",
    "elif day == 3:\n",
    "\tprint(\"Wednesday\")\n",
    "elif day == 4:\n",
    "\tprint(\"Thursday\")\n",
    "elif day == 5:\n",
    "\tprint(\"Friday\")\n",
    "elif day == 6:\n",
    "\tprint(\"Saturday\")\n",
    "elif day == 7:\n",
    "\tprint(\"Sunday\")\n",
    "else:\n",
    " print(\"Error, out of range\")"
   ]
  }
 ],
 "metadata": {
  "kernelspec": {
   "display_name": "Python 3 (ipykernel)",
   "language": "python",
   "name": "python3"
  },
  "language_info": {
   "codemirror_mode": {
    "name": "ipython",
    "version": 3
   },
   "file_extension": ".py",
   "mimetype": "text/x-python",
   "name": "python",
   "nbconvert_exporter": "python",
   "pygments_lexer": "ipython3",
   "version": "3.10.4"
  }
 },
 "nbformat": 4,
 "nbformat_minor": 5
}

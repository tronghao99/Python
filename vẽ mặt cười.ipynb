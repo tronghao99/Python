{
 "cells": [
  {
   "cell_type": "code",
   "execution_count": 1,
   "id": "6626cd74",
   "metadata": {},
   "outputs": [
    {
     "ename": "AttributeError",
     "evalue": "'Turtle' object has no attribute 'mainloop'",
     "output_type": "error",
     "traceback": [
      "\u001b[1;31m---------------------------------------------------------------------------\u001b[0m",
      "\u001b[1;31mAttributeError\u001b[0m                            Traceback (most recent call last)",
      "Input \u001b[1;32mIn [1]\u001b[0m, in \u001b[0;36m<cell line: 41>\u001b[1;34m()\u001b[0m\n\u001b[0;32m     39\u001b[0m t\u001b[38;5;241m.\u001b[39mright(\u001b[38;5;241m90\u001b[39m)\n\u001b[0;32m     40\u001b[0m t\u001b[38;5;241m.\u001b[39mcircle(\u001b[38;5;241m100\u001b[39m,\u001b[38;5;241m180\u001b[39m)\n\u001b[1;32m---> 41\u001b[0m \u001b[43mt\u001b[49m\u001b[38;5;241;43m.\u001b[39;49m\u001b[43mmainloop\u001b[49m()\n",
      "\u001b[1;31mAttributeError\u001b[0m: 'Turtle' object has no attribute 'mainloop'"
     ]
    }
   ],
   "source": [
    "import turtle\n",
    "t = turtle.Turtle()\n",
    "t.pensize(5) # cài đặt size bút\n",
    "t.pencolor(\"Blue\") \n",
    "facesize = 200\n",
    "t.penup()\n",
    "t.goto(0, -200)\n",
    "t.pendown()\n",
    "t.circle(facesize)\n",
    "#for eyes\n",
    "#Màu nền mắt là màu đỏ\n",
    "t.fillcolor (\"red\")\n",
    "t.penup()\n",
    "t.goto(-100,50)\n",
    "t.pendown()\n",
    " \n",
    "# khai bao bien eyesize lưu kích thước mắt\n",
    "eye_size = 17.5\n",
    " \n",
    "t.begin_fill()\n",
    "t.circle(eye_size)\n",
    "t.end_fill()\n",
    "t.penup()\n",
    " \n",
    "t.goto(100,50)\n",
    "t.pendown()\n",
    "t.begin_fill()\n",
    "t.circle(eye_size)\n",
    "t.end_fill()\n",
    "#for nose\n",
    "t.penup ()\n",
    "t.goto(0,50)\n",
    "t.pendown()\n",
    "t.circle(-70, steps=3)\n",
    "# for smile\n",
    "t.penup()\n",
    "t.goto(-100, -70)\n",
    "t.pendown()\n",
    "t.right(90)\n",
    "t.circle(100,180)\n",
    "t.mainloop()"
   ]
  }
 ],
 "metadata": {
  "kernelspec": {
   "display_name": "Python 3 (ipykernel)",
   "language": "python",
   "name": "python3"
  },
  "language_info": {
   "codemirror_mode": {
    "name": "ipython",
    "version": 3
   },
   "file_extension": ".py",
   "mimetype": "text/x-python",
   "name": "python",
   "nbconvert_exporter": "python",
   "pygments_lexer": "ipython3",
   "version": "3.10.4"
  }
 },
 "nbformat": 4,
 "nbformat_minor": 5
}

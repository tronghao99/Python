{
 "cells": [
  {
   "cell_type": "code",
   "execution_count": 1,
   "id": "6626cd74",
   "metadata": {},
   "outputs": [],
   "source": [
    "import turtle\n",
    "t = turtle.Turtle()\n",
    "# cài đặt size bút\n",
    "t.pensize(5)\n",
    "t.pencolor(\"Blue\") \n",
    "facesize = 200\n",
    "t.penup()\n",
    "t.goto(0, -200)\n",
    "t.pendown()\n",
    "t.circle(facesize)\n",
    "#for eyes\n",
    "#Màu nền mắt là màu đỏ\n",
    "t.fillcolor (\"red\")\n",
    "t.penup()\n",
    "t.goto(-100,50)\n",
    "t.pendown()\n",
    " \n",
    "# khai bao bien eyesize lưu kích thước mắt\n",
    "eye_size = 17.5\n",
    "t.begin_fill()\n",
    "t.circle(eye_size)\n",
    "t.end_fill()\n",
    "t.penup()\n",
    "t.goto(100,50)\n",
    "t.pendown()\n",
    "t.begin_fill()\n",
    "t.circle(eye_size)\n",
    "t.end_fill()\n",
    "#for nose\n",
    "t.penup ()\n",
    "t.goto(0,50)\n",
    "t.pendown()\n",
    "t.circle(-70, steps=3)\n",
    "# for smile\n",
    "t.penup()\n",
    "t.goto(-100, -70)\n",
    "t.pendown()\n",
    "t.right(90)\n",
    "t.circle(100,180)"
   ]
  }
 ],
 "metadata": {
  "kernelspec": {
   "display_name": "Python 3 (ipykernel)",
   "language": "python",
   "name": "python3"
  },
  "language_info": {
   "codemirror_mode": {
    "name": "ipython",
    "version": 3
   },
   "file_extension": ".py",
   "mimetype": "text/x-python",
   "name": "python",
   "nbconvert_exporter": "python",
   "pygments_lexer": "ipython3",
   "version": "3.10.4"
  }
 },
 "nbformat": 4,
 "nbformat_minor": 5
}

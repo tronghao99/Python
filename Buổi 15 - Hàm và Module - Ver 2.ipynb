{
 "cells": [
  {
   "cell_type": "markdown",
   "id": "73456e5e",
   "metadata": {},
   "source": [
    "# Hàm\n",
    "\n",
    "### Hàm\n",
    "\n",
    "Cú pháp:\n",
    "\n",
    "`def <tên hàm>(<tham số)>:\n",
    "    //Nội dung hàm`\n",
    "\n",
    "Gọi hàm:\n",
    "`<tên hàm>(<giá trị đầu vào>)`\n",
    "\n",
    "Ví dụ:\n",
    "\n",
    "Hãy viết 1 hàm số để tính tổng 2 số đầu vào và in nó ra màn hình"
   ]
  },
  {
   "cell_type": "code",
   "execution_count": 5,
   "id": "af5b9f6d",
   "metadata": {},
   "outputs": [
    {
     "name": "stdout",
     "output_type": "stream",
     "text": [
      "tên:hao\n",
      "Xin chào hao\n",
      "năm sinh:1999\n",
      "bạn có 23 tuổi\n"
     ]
    }
   ],
   "source": [
    "def a():\n",
    "    ten=input(\"tên:\")\n",
    "    print(\"Xin chào\",ten)\n",
    "    namsinh=input(\"năm sinh:\")\n",
    "    print('bạn có',2022-int(namsinh),\"tuổi\")\n",
    "a()"
   ]
  },
  {
   "cell_type": "markdown",
   "id": "a7c39f47",
   "metadata": {},
   "source": [
    "### Giá trị trả về của hàm\n",
    "\n",
    "# return\n",
    "\n",
    "Cú pháp:\n",
    "\n",
    "`retrun <giá trị trả về>`\n",
    "\n",
    "##### Lưu ý: Sau khi thực hiện lệnh return, chương trình sẽ thoát khỏi hàm ngay lập tức (những lệnh sau đó không được thực hiện)\n",
    "\n",
    "Ví dụ:\n",
    "\n",
    "Hãy viết 1 hàm trả về giá trị trung bình của 2 số bất kỳ"
   ]
  },
  {
   "cell_type": "code",
   "execution_count": 9,
   "id": "0b527b95",
   "metadata": {},
   "outputs": [
    {
     "name": "stdout",
     "output_type": "stream",
     "text": [
      "3 x 1 = 3\n",
      "3 x 2 = 6\n",
      "3 x 3 = 9\n",
      "3 x 4 = 12\n",
      "3 x 5 = 15\n",
      "3 x 6 = 18\n",
      "3 x 7 = 21\n",
      "3 x 8 = 24\n",
      "3 x 9 = 27\n",
      "3 x 10 = 30\n"
     ]
    }
   ],
   "source": [
    "def bang(a):\n",
    "    for i in range(1,11):\n",
    "        print(a,\"x\",i,\"=\",a*i)\n",
    "bang(3)"
   ]
  },
  {
   "cell_type": "code",
   "execution_count": 15,
   "id": "ebc3d44b",
   "metadata": {},
   "outputs": [
    {
     "name": "stdout",
     "output_type": "stream",
     "text": [
      "a+b= 18 a-b= 3 a+b= 9 a/b= 2.0 "
     ]
    }
   ],
   "source": [
    "## Viết hàm có 2 tham số đầu vào là 2 kiểu số nguyên. Hãy tính tổng, tích, thương, hiệu của 2 số đó rồi in ra màn hình\n",
    "def so(a,b):\n",
    "    print(\"a+b=\",a*b,\"a-b=\",a-b,\"a+b=\",a+b,\"a/b=\",a/b,end=\" \")\n",
    "so(6,3)"
   ]
  },
  {
   "cell_type": "code",
   "execution_count": 2,
   "id": "84482386",
   "metadata": {},
   "outputs": [
    {
     "name": "stdout",
     "output_type": "stream",
     "text": [
      "Nước ngọt\n",
      "Giá: 6000\n",
      "Nhập số lượng cần mua:6\n",
      "36000\n"
     ]
    }
   ],
   "source": [
    "## S là tên món hàng, a là giá tiền sản phẩm\n",
    "## Hãy in ra màn hình và mời mọi người nhập vào số lượng cần mua\n",
    "## Tính và in ra giá tiền cần trả\n",
    "def t(s,a):\n",
    "    print(s)\n",
    "    print(\"Giá:\",a)\n",
    "    b=int(input(\"Nhập số lượng cần mua:\"))\n",
    "    l=b*a\n",
    "    return(l)\n",
    "   #print(\"Tổng tiền phải trả cho\",s,\"là:\",i)\n",
    "a=t(\"Nước ngọt\",6000)\n",
    "print(a)"
   ]
  },
  {
   "cell_type": "code",
   "execution_count": 18,
   "id": "2bc8d1c6",
   "metadata": {},
   "outputs": [
    {
     "name": "stdout",
     "output_type": "stream",
     "text": [
      "Tên sản phẩm: Cơm sườn\n",
      "Giá: 30000\n",
      "Nhập số lượng cần mua:6\n",
      "----------------\n",
      "Tên sản phẩm: Cơm gà\n",
      "Giá: 35000\n",
      "Nhập số lượng cần mua:6\n",
      "----------------\n",
      "Tên sản phẩm: Cơm trứng\n",
      "Giá: 25000\n",
      "Nhập số lượng cần mua:6\n",
      "----------------\n",
      "Tổng: 540000\n"
     ]
    }
   ],
   "source": [
    "###### Dựa vào hàm đã viết ở bài trên, viết chương trình hỏi người dùng số lượng cần mua 3 sản phẩm sau:\n",
    "## Cơm sườn - 30000\n",
    "## Cơm gà - 35000\n",
    "## Cơm trứng - 25000\n",
    "## Sau khi người dùng đã nhập số lượng, tính và in ra tổng toàn bộ số tiền cần phải trả\n",
    "def hanghoa(S,a):\n",
    "    print(\"Tên sản phẩm:\",S)\n",
    "    print(\"Giá:\",a)\n",
    "    l = int(input(\"Nhập số lượng cần mua:\"))\n",
    "    D = l * a\n",
    "    return D\n",
    "\n",
    "gia_suon = hanghoa(\"Cơm sườn\",30000)\n",
    "print(\"----------------\")\n",
    "gia_ga = hanghoa(\"Cơm gà\",35000)\n",
    "print(\"----------------\")\n",
    "gia_trung = hanghoa(\"Cơm trứng\",25000)\n",
    "print(\"----------------\")\n",
    "tong = gia_suon + gia_ga + gia_trung\n",
    "print(\"Tổng:\",tong)\n",
    "   "
   ]
  },
  {
   "cell_type": "code",
   "execution_count": null,
   "id": "897a7901",
   "metadata": {},
   "outputs": [],
   "source": [
    "## Đưa vào hàm 1 tham số là số nguyên, kiểm tra xem số đó có phải là số nguyên hay không, nếu có thì trả về True\n",
    "### nếu không thì trả về False\n",
    "\n",
    "def checknum(a):\n",
    "    kiemtra = True\n",
    "    if (a < 2):\n",
    "        return False\n",
    "    else:\n",
    "        for i in range(2,a): ## i sẽ chạy từ 2 đến a-1\n",
    "            if a % i == 0: ## nếu phát hiện i là số mà n không chia hết thì\n",
    "                kiemtra = False ## cho kiểm tra bằng False (để tí nữa return False)\n",
    "                break ## ngừng dòng for\n",
    "        return kiemtra ## nếu chạy hết for mà không tìm thấy được i nào mà n chia hết thì return True\n",
    "    \n",
    "print(checknum(11))\n",
    "True"
   ]
  },
  {
   "cell_type": "markdown",
   "id": "1d7f8db0",
   "metadata": {},
   "source": [
    "### Bài tập"
   ]
  },
  {
   "cell_type": "markdown",
   "id": "75fb488b",
   "metadata": {},
   "source": [
    "Viết hàm kiểm tra số nguyên tố"
   ]
  },
  {
   "cell_type": "code",
   "execution_count": 24,
   "id": "63701bd7",
   "metadata": {},
   "outputs": [
    {
     "name": "stdout",
     "output_type": "stream",
     "text": [
      "False\n"
     ]
    }
   ],
   "source": [
    "def num(a):\n",
    "    kiemtra=True\n",
    "    if(a<2):\n",
    "        return False\n",
    "    else:\n",
    "        for i in range(2,a+1):\n",
    "            if a % i==0:\n",
    "                kiemtra = False\n",
    "                break\n",
    "        return kiemtra\n",
    "print(num(56))"
   ]
  },
  {
   "cell_type": "markdown",
   "id": "221103cf",
   "metadata": {},
   "source": [
    "Nhập vào 3 điểm toán, lý, hóa\n",
    "\n",
    "Hãy viết hàm in điểm trung bung bình rồi tính điểm trung bình của toán lý, toán hóa, lý hóa và toán lý hóa"
   ]
  },
  {
   "cell_type": "code",
   "execution_count": 25,
   "id": "1ba1d8ae",
   "metadata": {},
   "outputs": [
    {
     "name": "stdout",
     "output_type": "stream",
     "text": [
      "Tổng TB: 9.0\n"
     ]
    }
   ],
   "source": [
    "## Viết hàm tính và trả về điểm trung bình của toán lý, toán hóa, lý hóa và toán lý hóa\n",
    "## Mình cần viết 2 hàm\n",
    "## 1 hàm sẽ có 3 tham số (hàm tính điểm trung bình của 3 môn)\n",
    "## 1 hàm sẽ có 2 tham số (hàm tính điểm trung bình của 2 môn)\n",
    "def tinhtb3(a,b,c):\n",
    "    dtb = (a+b+c)/3\n",
    "    print(dtb)\n",
    "    \n",
    "def tinhtb2(a,b):\n",
    "    print((a+b)/2)\n",
    "    \n",
    "toan = float(input(\"nhap vao diem toan: \"))\n",
    "ly = float(input(\"nhap vao diem ly: \"))\n",
    "hoa = float(input(\"nhap vao diem hoa: \"))\n",
    "\n",
    "print(\"Điểm trung 3 môn là:\")\n",
    "tinhtb3(toan,ly,hoa)\n",
    "print(\"Điểm trung 2 môn toán lý là:\")\n",
    "tinhtb2(toan,ly)\n",
    "print(\"Điểm trung 2 môn toán hóa là:\")\n",
    "tinhtb2(toan,hoa)\n",
    "print(\"Điểm trung 2 môn hóa lý là:\")\n",
    "tinhtb2(hoa,ly)"
   ]
  },
  {
   "cell_type": "markdown",
   "id": "06eb5c4a",
   "metadata": {},
   "source": [
    "Viết hàm tính giai thừa của một số"
   ]
  },
  {
   "cell_type": "code",
   "execution_count": 3,
   "id": "7b91ddf0",
   "metadata": {},
   "outputs": [
    {
     "name": "stdout",
     "output_type": "stream",
     "text": [
      "5040\n"
     ]
    }
   ],
   "source": [
    "## Giai thừa:\n",
    "## 1! = 1\n",
    "## 2! = 1*2\n",
    "## 3! = 1*2*3\n",
    "## 4! = 1*2*3*4\n",
    "## Viết hàm giaithua có 1 tham số đầu vào là số nguyên, tính và trả về giá trị giai thừa của số nguyên đó\n",
    "def giaithua(a):\n",
    "    if a == 0:\n",
    "        return 1\n",
    "    else:\n",
    "        kq = 1\n",
    "        for i in range(1,a+1): ## i sẽ chạy từ 1 đến a\n",
    "            kq *= i\n",
    "        return kq\n",
    "    \n",
    "print(giaithua(7))"
   ]
  },
  {
   "cell_type": "markdown",
   "id": "50f43307",
   "metadata": {},
   "source": [
    "Viết hàm đếm số lượng từ của một chuỗi đưa vào"
   ]
  },
  {
   "cell_type": "code",
   "execution_count": 16,
   "id": "be785b29",
   "metadata": {},
   "outputs": [
    {
     "name": "stdout",
     "output_type": "stream",
     "text": [
      "Nhập chuỗi:Xin chào các bạn nhé!\n",
      "5\n"
     ]
    }
   ],
   "source": [
    "def chuoi(a):\n",
    "    s=a.split()\n",
    "    return len(s)\n",
    "a=str(input(\"Nhập chuỗi:\"))\n",
    "print(chuoi(a))"
   ]
  },
  {
   "cell_type": "markdown",
   "id": "696aa7d2",
   "metadata": {},
   "source": [
    "Viết hàm có giá trị đầu vào là tên sản phẩm, giá một sản phẩm và số lượng sản phẩm, tính và trả về tổng giá tiền"
   ]
  },
  {
   "cell_type": "code",
   "execution_count": 4,
   "id": "da2213a2",
   "metadata": {},
   "outputs": [
    {
     "name": "stdout",
     "output_type": "stream",
     "text": [
      "Tên: Thịt bò\n",
      "Giá sản phẩm: 45000\n",
      "Số lượng: 9\n",
      "405000\n"
     ]
    }
   ],
   "source": [
    "def shop(a,b,c):\n",
    "    print(\"Tên:\",a)\n",
    "    print(\"Giá sản phẩm:\",b)\n",
    "    print(\"Số lượng:\",c)\n",
    "    return b*c\n",
    "print(shop(\"Thịt bò\",45000,9))"
   ]
  },
  {
   "cell_type": "markdown",
   "id": "acdf1356",
   "metadata": {},
   "source": [
    "Viết hàm lấy tên đệm\n",
    "\n",
    "Ví dụ: Nhập vào \"Nguyễn Tâm Điền\"\n",
    "\n",
    "Kết quả in ra là: \"Tâm\""
   ]
  },
  {
   "cell_type": "code",
   "execution_count": 27,
   "id": "a5255f7a",
   "metadata": {},
   "outputs": [
    {
     "name": "stdout",
     "output_type": "stream",
     "text": [
      "Trọng\n"
     ]
    }
   ],
   "source": [
    "def ten(a):\n",
    "    b=a.find(\" \")\n",
    "    c=a.rfind(\" \")\n",
    "    return a[b+1:c]\n",
    "print(ten(\"Hồ Trọng Hảo\"))"
   ]
  },
  {
   "cell_type": "markdown",
   "id": "b4adef40",
   "metadata": {},
   "source": [
    "Viết một hàm vẽ hình tròn, một hàm vẽ hình vuông và một hàm vẽ hình tam giác đều (giá trị đầu vào là a)\n",
    "\n",
    "Tất cả hàm này, bắt đầu từ 1 vị trí, sau khi vẽ ra, con trỏ sẽ tiến tới vị trí tiếp theo, cách vì đầu một khoảng a + 10 theo chiều x từ trái sang"
   ]
  },
  {
   "cell_type": "code",
   "execution_count": 1,
   "id": "02206d7f",
   "metadata": {},
   "outputs": [],
   "source": [
    "import turtle\n",
    "t = turtle.Turtle()\n",
    "def hinhtron(a):\n",
    "    t.pu()\n",
    "    t.fd(a/2)\n",
    "    t.pd()\n",
    "    t.circle(a/2)\n",
    "    t.penup()\n",
    "    t.fd(a/2 + 10)\n",
    "    t.pendown()\n",
    "hinhtron(50)\n",
    "def hinhvuong(a):\n",
    "     for i in range(4):\n",
    "        t.fd(a)\n",
    "        t.lt(90)\n",
    "     t.penup()\n",
    "     t.fd(a+10)\n",
    "     t.pendown()\n",
    "hinhvuong(50)\n",
    "def tamgiac(a):\n",
    "    for i in range(3):\n",
    "        t.fd(a)\n",
    "        t.lt(120)\n",
    "    t.penup()\n",
    "    t.fd(a+10)\n",
    "    t.pendown()\n",
    "tamgiac(50)\n",
    "        \n",
    "    "
   ]
  }
 ],
 "metadata": {
  "kernelspec": {
   "display_name": "Python 3 (ipykernel)",
   "language": "python",
   "name": "python3"
  },
  "language_info": {
   "codemirror_mode": {
    "name": "ipython",
    "version": 3
   },
   "file_extension": ".py",
   "mimetype": "text/x-python",
   "name": "python",
   "nbconvert_exporter": "python",
   "pygments_lexer": "ipython3",
   "version": "3.10.4"
  }
 },
 "nbformat": 4,
 "nbformat_minor": 5
}

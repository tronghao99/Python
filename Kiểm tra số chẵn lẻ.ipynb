{
 "cells": [
  {
   "cell_type": "code",
   "execution_count": 1,
   "id": "209aa475",
   "metadata": {},
   "outputs": [
    {
     "name": "stdout",
     "output_type": "stream",
     "text": [
      "Nhập số:34\n",
      "a là số chẵn\n"
     ]
    }
   ],
   "source": [
    "a=float(input(\"Nhập số:\"))\n",
    "if a%2== 0:\n",
    "    print(\"a là số chẵn\")\n",
    "elif a%2==1:\n",
    "    print(\"a là số lẻ\")\n",
    "else:\n",
    "    print(\"Không là số tự nhiên\")"
   ]
  }
 ],
 "metadata": {
  "kernelspec": {
   "display_name": "Python 3 (ipykernel)",
   "language": "python",
   "name": "python3"
  },
  "language_info": {
   "codemirror_mode": {
    "name": "ipython",
    "version": 3
   },
   "file_extension": ".py",
   "mimetype": "text/x-python",
   "name": "python",
   "nbconvert_exporter": "python",
   "pygments_lexer": "ipython3",
   "version": "3.10.4"
  }
 },
 "nbformat": 4,
 "nbformat_minor": 5
}

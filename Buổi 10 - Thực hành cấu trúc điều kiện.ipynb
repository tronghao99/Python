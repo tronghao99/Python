{
 "cells": [
  {
   "cell_type": "markdown",
   "id": "dcdb816e",
   "metadata": {},
   "source": [
    "# Thực hành cấu trúc điều khiển\n",
    "\n",
    "### Bài 1\n",
    "\n",
    "Cho phương trình bậc 2: ax^2 + bx + c = 0\n",
    "\n",
    "Nhập a, b, c\n",
    "\n",
    "Giải và biện luận phương trình trên"
   ]
  },
  {
   "cell_type": "code",
   "execution_count": 6,
   "id": "b5a5c325",
   "metadata": {},
   "outputs": [
    {
     "name": "stdout",
     "output_type": "stream",
     "text": [
      "a:1\n",
      "b:2\n",
      "c:1\n",
      "phương trình có nghiệm kép là:  -1.0\n"
     ]
    }
   ],
   "source": [
    "a = float(input('a:'))\n",
    "b = float(input('b:'))\n",
    "c = float(input('c:'))\n",
    "if a == 0:\n",
    "    if b == 0:\n",
    "        if c == 0:\n",
    "            print('phương trình vô số nghiệm')\n",
    "        else:\n",
    "            print('phương trình vô nghiệm')\n",
    "    else:\n",
    "        x = -c/b\n",
    "        print('phương trình có 1 nghiệm: ',x)\n",
    "else:\n",
    "    d = b*b - 4*a*c\n",
    "    if d > 0:\n",
    "        x1 = (-b + (d)**0.5)/(2*a)\n",
    "        x2 = (-b - (d)**0.5)/(2*a)\n",
    "        print('phương trình có 2 nghiệm là: ',x1,\" \",x2)\n",
    "    if d == 0:\n",
    "        x = -b/(2*a)\n",
    "        print('phương trình có nghiệm kép là: ',x)\n",
    "    if d < 0:\n",
    "        print('phương trình vô nghiệm')"
   ]
  },
  {
   "cell_type": "markdown",
   "id": "6f7d329d",
   "metadata": {},
   "source": [
    "### Bài 2\n",
    "\n",
    "Hãy nhập vào một số\n",
    "\n",
    "Xác định coi đó có phải là số nguyên tố hay không"
   ]
  },
  {
   "cell_type": "code",
   "execution_count": null,
   "id": "049c85f5",
   "metadata": {},
   "outputs": [],
   "source": []
  },
  {
   "cell_type": "markdown",
   "id": "75f7717b",
   "metadata": {},
   "source": [
    "### Bài 3\n",
    "\n",
    "Hãy nhập vào số n\n",
    "\n",
    "Hãy đếm số chữ số 0 tận cùng của n giai thừa\n",
    "\n",
    "(Bài này nâng cao, mọi người có thể bỏ qua)"
   ]
  },
  {
   "cell_type": "code",
   "execution_count": null,
   "id": "789e0e76",
   "metadata": {},
   "outputs": [],
   "source": []
  },
  {
   "cell_type": "markdown",
   "id": "29cd6c81",
   "metadata": {},
   "source": [
    "### Bài 4\n",
    "\n",
    "In ra tất cả các số chia hết cho 3 nhỏ hơn 100"
   ]
  },
  {
   "cell_type": "code",
   "execution_count": 3,
   "id": "0b848981",
   "metadata": {},
   "outputs": [
    {
     "name": "stdout",
     "output_type": "stream",
     "text": [
      "Số chia hết cho 3 nhỏ hơn 100:  0 3 6 9 12 15 18 21 24 27 30 33 36 39 42 45 48 51 54 57 60 63 66 69 72 75 78 81 84 87 90 93 96 99\n"
     ]
    }
   ],
   "source": [
    "a = \"Số chia hết cho 3 nhỏ hơn 100: \"\n",
    "for i in range(100):\n",
    "  if i % 3 == 0:\n",
    "    a = a + \" \" + str(i)\n",
    "print (a)"
   ]
  },
  {
   "cell_type": "markdown",
   "id": "04dbf99b",
   "metadata": {},
   "source": [
    "### Bài 5\n",
    "\n",
    "In ra tất cả các số lẻ nhưng không chia hết cho 3 nhỏ hơn 100"
   ]
  },
  {
   "cell_type": "code",
   "execution_count": 5,
   "id": "769eb439",
   "metadata": {},
   "outputs": [
    {
     "ename": "IndentationError",
     "evalue": "unindent does not match any outer indentation level (<tokenize>, line 5)",
     "output_type": "error",
     "traceback": [
      "\u001b[1;36m  File \u001b[1;32m<tokenize>:5\u001b[1;36m\u001b[0m\n\u001b[1;33m    k+=2\u001b[0m\n\u001b[1;37m    ^\u001b[0m\n\u001b[1;31mIndentationError\u001b[0m\u001b[1;31m:\u001b[0m unindent does not match any outer indentation level\n"
     ]
    }
   ],
   "source": [
    "k=1\n",
    "for i in range(50):\n",
    "    if (i%k==0):\n",
    "        print(k)\n",
    "    k+=2"
   ]
  },
  {
   "cell_type": "markdown",
   "id": "26dd47fb",
   "metadata": {},
   "source": [
    "### Bài 5\n",
    "\n",
    "Tại một cửa hàng nọ có menu như sau:\n",
    "\n",
    "1. Gà rán giá 35k\n",
    "2. Hamburger giá 50k\n",
    "3. Pesi giá 10k\n",
    "\n",
    "Nhập số lượng món hàng cần mua\n",
    "\n",
    "Tính và in ra tổng giá tiền (hiển thị có dấu chấm mỗi 3 chữ số để người dùng để quan sát)\n",
    "\n",
    "Nếu giá trị đơn hàng trên 2 triệu, giảm 10% cho khách, trên 4 triệu, giảm 15%\n",
    "\n",
    "Tính và in ra tổng giá tiền được giảm (hiển thị có dấu chấm mỗi 3 chữ số để người dùng để quan sát)\n",
    "\n",
    "Tính và in ra tổng giá tiền khách cần trả (hiển thị có dấu chấm mỗi 3 chữ số để người dùng để quan sát)\n",
    "\n",
    "In ra dòng chữ \"Cảm ơn quý khách đã mua hàng\""
   ]
  },
  {
   "cell_type": "code",
   "execution_count": 13,
   "id": "8509df1e",
   "metadata": {},
   "outputs": [
    {
     "name": "stdout",
     "output_type": "stream",
     "text": [
      "số gà cần mua:2\n",
      "số burger cần mua:6\n",
      "số pepsi cần mua:7\n",
      "tổng giá tiền cần trả là 440000\n",
      "cảm ơn quý khách đã mua hàng\n"
     ]
    }
   ],
   "source": [
    "print(\"1. Gà rán giá 35k\")\n",
    "print(\"2. Hamburger giá 50k\")\n",
    "print(\"3. Pesi giá 10k\")\n",
    "print()\n",
    "\n",
    "garan = int(input(\"Nhập số lượng gà rán: \"))\n",
    "hamburger = int(input(\"Nhập số lượng hamburger: \"))\n",
    "pepsi = int(input(\"Nhập số lượng pesi: \"))\n",
    "\n",
    "tong = garan*35000 + pepsi*10000 + hamburger*50000\n",
    "\n",
    "if 4000000 >= tong > 2000000:\n",
    "    tiengiam = int(tong*0.1)\n",
    "    tong = tong - tiengiam\n",
    "    \n",
    "elif tong>4000000:\n",
    "    tiengiam = int(tong*0.15)\n",
    "    tong = tong-tiengiam\n",
    "else:\n",
    "    tiengiam = 0\n",
    "\n",
    "tiengiam = str(tiengiam)\n",
    "sodaucham = (len(tiengiam) - 1)//3\n",
    "vt = len(tiengiam) - 3\n",
    "for i in range(sodaucham):\n",
    "    tiengiam = tiengiam[:vt] + \".\" + tiengiam[vt:]\n",
    "    vt -= 3\n",
    "    \n",
    "tong = str(tong)\n",
    "sodaucham = (len(tong) - 1)//3\n",
    "vt = len(tong) - 3\n",
    "for i in range(sodaucham):\n",
    "    tong = tong[:vt] + \".\" + tong[vt:]\n",
    "    vt -= 3\n",
    "    \n",
    "print()\n",
    "print(\"Số tiền được giảm giá là:\",tiengiam,\"VNĐ\")\n",
    "print(\"Số tiền cần thanh toán là:\",tong,\"VNĐ\")\n",
    "print()\n",
    "print(\"Cảm ơn quý khách đã mua hàng!\")"
   ]
  },
  {
   "cell_type": "markdown",
   "id": "ab10a1ce",
   "metadata": {},
   "source": [
    "### Bài 6\n",
    "\n",
    "Nhập vào chiều cao (cm) và cân nặng (kg), tính số BMI và xét rồi xin kết quả theo dữ liệu sau:\n",
    "\n",
    "- BMI < 16: Gầy cấp độ III\n",
    "- 16 <= BMI < 17:  Gầy cấp độ II\n",
    "- 17<= BMI < 18.5: Gầy cấp độ I\n",
    "- 18.5 <= BMI < 25: Bình thường\n",
    "- 25 <= BMI < 30: Thừa cân\n",
    "- 30 <= BMI < 35 : Béo phì cấp độ I\n",
    "- 35 <= BMI < 40: Béo phì cấp độ II\n",
    "- BMI > 40: Béo phì cấp độ III"
   ]
  },
  {
   "cell_type": "code",
   "execution_count": 24,
   "id": "1058f441",
   "metadata": {},
   "outputs": [
    {
     "name": "stdout",
     "output_type": "stream",
     "text": [
      "Nhập chiều cao:180\n",
      "Nhập cân nặng:60\n",
      "Chỉ số BMI của bạn là:  18.5\n",
      "Bình thường\n"
     ]
    }
   ],
   "source": [
    "a=float(input(\"Nhập chiều cao:\"))\n",
    "b=float(input(\"Nhập cân nặng:\"))\n",
    "BMI= b/((a*a)/10000)\n",
    "print(\"Chỉ số BMI của bạn là: \",(round(BMI,1)))\n",
    "if BMI<16:\n",
    " print(\"Gầy cấp độ III\")\n",
    "elif 16<= BMI <17:\n",
    " print(\"Gầy Cấp độ II\")\n",
    "elif 17<= BMI<18.5:\n",
    " print(\"Gầy cấp độ I\")\n",
    "elif 18.5<= BMI<= 25:\n",
    " print(\"Bình thường\")\n",
    "elif 25<=BMI<=30:\n",
    " print(\"Thừa cân\")\n",
    "elif 30<=BMI<=35:\n",
    " print(\"Béo phì cấp độ I\")\n",
    "elif 35<=BMI<=40:\n",
    " print(\"Béo phì cấp độ II\")\n",
    "else:\n",
    " print(\"Béo phì cấp độ III \")"
   ]
  },
  {
   "cell_type": "markdown",
   "id": "f7620342",
   "metadata": {},
   "source": [
    "### Bài 7\n",
    "\n",
    "Nhập ngày, tháng, năm. Hãy tính và in ra màn hình kể từ đầu năm đến ngày vừa nhập là bao nhiêu ngày."
   ]
  },
  {
   "cell_type": "code",
   "execution_count": null,
   "id": "4c57f0a5",
   "metadata": {},
   "outputs": [],
   "source": [
    "a = int(input(\"nhập ngày : \"))\n",
    "b = int(input(\"nhập tháng : \"))\n",
    "c = int(input(\"nhập năm : \"))\n",
    "if c % 4 == 0 :\n",
    "    if c % 100 == 0 and c % 400 != 0:\n",
    "        d = 365\n",
    "    else:\n",
    "        d = 366\n",
    "else:\n",
    "    d = 365\n",
    "if b <= 2:\n",
    "    so_ngay = 31*(b-1) + a \n",
    "if 8 >= b > 2:\n",
    "    if b % 2 == 0:\n",
    "        so_ngay = 31*(b-1) - (b - 2)/2  - 2 + a\n",
    "    else :\n",
    "        so_ngay = 31*(b-1) - (b-1)/2 - 2 + a\n",
    "else:\n",
    "    if b % 2 == 0:\n",
    "        so_ngay = 31*(b-1) - (b-2)/2 - 2 + a\n",
    "    else:\n",
    "        so_ngay = 31*(b-1) - (b-3)/2 - 2 + a\n",
    "if d == 366:\n",
    "    so_ngay = so_ngay + 1\n",
    "print(so_ngay)"
   ]
  }
 ],
 "metadata": {
  "kernelspec": {
   "display_name": "Python 3 (ipykernel)",
   "language": "python",
   "name": "python3"
  },
  "language_info": {
   "codemirror_mode": {
    "name": "ipython",
    "version": 3
   },
   "file_extension": ".py",
   "mimetype": "text/x-python",
   "name": "python",
   "nbconvert_exporter": "python",
   "pygments_lexer": "ipython3",
   "version": "3.10.4"
  }
 },
 "nbformat": 4,
 "nbformat_minor": 5
}

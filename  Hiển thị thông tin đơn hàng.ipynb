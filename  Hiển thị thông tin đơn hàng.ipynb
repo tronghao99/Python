{
 "cells": [
  {
   "cell_type": "code",
   "execution_count": 5,
   "id": "30334bc6",
   "metadata": {},
   "outputs": [
    {
     "name": "stdout",
     "output_type": "stream",
     "text": [
      "Nhập số tiền thanh toán:75\n",
      "Số tiền thanh toán là: 60\n"
     ]
    }
   ],
   "source": [
    "a= int(input(\"Nhập số tiền thanh toán:\"))\n",
    "if a>= 150:\n",
    "    print(\"Số tiền thanh toán là:\", a-50)\n",
    "elif a>=100:\n",
    "    print(\"Số tiền thanh toán là:\", a-25)\n",
    "elif a>=75:\n",
    "    print(\"Số tiền thanh toán là:\", a-15)\n",
    "else:\n",
    "    print(\"Số tiền thanh toán là:\", a)"
   ]
  }
 ],
 "metadata": {
  "kernelspec": {
   "display_name": "Python 3 (ipykernel)",
   "language": "python",
   "name": "python3"
  },
  "language_info": {
   "codemirror_mode": {
    "name": "ipython",
    "version": 3
   },
   "file_extension": ".py",
   "mimetype": "text/x-python",
   "name": "python",
   "nbconvert_exporter": "python",
   "pygments_lexer": "ipython3",
   "version": "3.10.4"
  }
 },
 "nbformat": 4,
 "nbformat_minor": 5
}

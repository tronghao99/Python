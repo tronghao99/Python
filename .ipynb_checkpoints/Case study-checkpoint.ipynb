{
 "cells": [
  {
   "cell_type": "code",
   "execution_count": 2,
   "id": "f71ac831",
   "metadata": {},
   "outputs": [],
   "source": [
    "from tkinter import *\n",
    "from PIL import ImageTk, Image\n",
    "window = Tk()\n",
    "window.title(\"Công ty Đăng Phát \")\n",
    "#baner\n",
    "img = ImageTk.PhotoImage(Image.open(\"app.png\"))\n",
    " \n",
    "#Displaying it\n",
    "imglabel = Label(app_root, image=img).grid(row=1, column=1)    \n",
    "\n",
    "window.mainloop()"
   ]
  }
 ],
 "metadata": {
  "kernelspec": {
   "display_name": "Python 3 (ipykernel)",
   "language": "python",
   "name": "python3"
  },
  "language_info": {
   "codemirror_mode": {
    "name": "ipython",
    "version": 3
   },
   "file_extension": ".py",
   "mimetype": "text/x-python",
   "name": "python",
   "nbconvert_exporter": "python",
   "pygments_lexer": "ipython3",
   "version": "3.10.4"
  }
 },
 "nbformat": 4,
 "nbformat_minor": 5
}

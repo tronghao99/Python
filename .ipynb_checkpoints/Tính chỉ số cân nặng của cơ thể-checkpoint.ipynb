{
 "cells": [
  {
   "cell_type": "code",
   "execution_count": null,
   "id": "1d320cc4",
   "metadata": {},
   "outputs": [],
   "source": [
    "a=float(input(\"Nhập chiều cao:\"))\n",
    "b=float(input(\"Nhập cân nặng:\"))\n",
    "BMI= b/((a*a)/10000)\n",
    "print(\"Chỉ số BMI của bạn là: \",(round(BMI,1)))\n",
    "if BMI<16:\n",
    " print(\"Gầy cấp độ III\")\n",
    "elif 16<= BMI <17:\n",
    " print(\"Gầy Cấp độ II\")\n",
    "elif 17<= BMI<18.5:\n",
    " print(\"Gầy cấp độ I\")\n",
    "elif 18.5<= BMI<= 25:\n",
    " print(\"Bình thường\")\n",
    "elif 25<=BMI<=30:\n",
    " print(\"Thừa cân\")\n",
    "elif 30<=BMI<=35:\n",
    " print(\"Béo phì cấp độ I\")\n",
    "elif 35<=BMI<=40:\n",
    " print(\"Béo phì cấp độ II\")\n",
    "else:\n",
    " print(\"Béo phì cấp độ III \")"
   ]
  }
 ],
 "metadata": {
  "kernelspec": {
   "display_name": "Python 3 (ipykernel)",
   "language": "python",
   "name": "python3"
  },
  "language_info": {
   "codemirror_mode": {
    "name": "ipython",
    "version": 3
   },
   "file_extension": ".py",
   "mimetype": "text/x-python",
   "name": "python",
   "nbconvert_exporter": "python",
   "pygments_lexer": "ipython3",
   "version": "3.10.4"
  }
 },
 "nbformat": 4,
 "nbformat_minor": 5
}

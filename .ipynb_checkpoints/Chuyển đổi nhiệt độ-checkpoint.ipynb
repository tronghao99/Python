{
 "cells": [
  {
   "cell_type": "code",
   "execution_count": 6,
   "id": "94dc1e29",
   "metadata": {},
   "outputs": [
    {
     "name": "stdout",
     "output_type": "stream",
     "text": [
      " Enter temperature in Centigrade: 37\n",
      " Temperature in Fahrenheit is:  98.60000000000001\n"
     ]
    }
   ],
   "source": [
    "C= input(\" Enter temperature in Centigrade: \")\n",
    "\n",
    "F = 1.8*int(C)+32\n",
    "\n",
    "print(\" Temperature in Fahrenheit is: \", F)"
   ]
  }
 ],
 "metadata": {
  "kernelspec": {
   "display_name": "Python 3 (ipykernel)",
   "language": "python",
   "name": "python3"
  },
  "language_info": {
   "codemirror_mode": {
    "name": "ipython",
    "version": 3
   },
   "file_extension": ".py",
   "mimetype": "text/x-python",
   "name": "python",
   "nbconvert_exporter": "python",
   "pygments_lexer": "ipython3",
   "version": "3.10.4"
  }
 },
 "nbformat": 4,
 "nbformat_minor": 5
}

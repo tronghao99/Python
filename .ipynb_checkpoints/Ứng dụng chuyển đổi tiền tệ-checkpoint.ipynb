{
 "cells": [
  {
   "cell_type": "code",
   "execution_count": 13,
   "id": "4cf9a25f",
   "metadata": {},
   "outputs": [
    {
     "name": "stdout",
     "output_type": "stream",
     "text": [
      "Nhập số tiền USD:1000\n",
      "Nhập tỉ giá USD/VND:23.190\n",
      "23190.0\n"
     ]
    }
   ],
   "source": [
    "USD =float(input(\"Nhập số tiền USD:\"))\n",
    "B = float(input(\"Nhập tỉ giá USD/VND:\"))\n",
    "VND =USD*B \n",
    "print(VND)"
   ]
  },
  {
   "cell_type": "code",
   "execution_count": null,
   "id": "f69efdec",
   "metadata": {},
   "outputs": [],
   "source": []
  }
 ],
 "metadata": {
  "kernelspec": {
   "display_name": "Python 3 (ipykernel)",
   "language": "python",
   "name": "python3"
  },
  "language_info": {
   "codemirror_mode": {
    "name": "ipython",
    "version": 3
   },
   "file_extension": ".py",
   "mimetype": "text/x-python",
   "name": "python",
   "nbconvert_exporter": "python",
   "pygments_lexer": "ipython3",
   "version": "3.10.4"
  }
 },
 "nbformat": 4,
 "nbformat_minor": 5
}

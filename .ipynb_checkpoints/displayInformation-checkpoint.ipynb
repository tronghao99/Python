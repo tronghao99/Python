{
 "cells": [
  {
   "cell_type": "code",
   "execution_count": 1,
   "id": "acbfeb57",
   "metadata": {},
   "outputs": [
    {
     "name": "stdout",
     "output_type": "stream",
     "text": [
      "Name: Hồ Trọng Hảo\n",
      "Age: 23\n",
      "Country: Nghệ An\n",
      "Mục đích học Python: Chuyển đổi ngành nghề\n"
     ]
    }
   ],
   "source": [
    "print(\"Name: Hồ Trọng Hảo\")\n",
    "print(\"Age: 23\")\n",
    "print(\"Country: Nghệ An\")\n",
    "print(\"Mục đích học Python: Chuyển đổi ngành nghề\")"
   ]
  }
 ],
 "metadata": {
  "kernelspec": {
   "display_name": "Python 3 (ipykernel)",
   "language": "python",
   "name": "python3"
  },
  "language_info": {
   "codemirror_mode": {
    "name": "ipython",
    "version": 3
   },
   "file_extension": ".py",
   "mimetype": "text/x-python",
   "name": "python",
   "nbconvert_exporter": "python",
   "pygments_lexer": "ipython3",
   "version": "3.10.4"
  }
 },
 "nbformat": 4,
 "nbformat_minor": 5
}

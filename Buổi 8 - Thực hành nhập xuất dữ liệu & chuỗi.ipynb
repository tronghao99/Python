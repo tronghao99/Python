{
 "cells": [
  {
   "cell_type": "markdown",
   "id": "5bc93fb0",
   "metadata": {},
   "source": [
    "# Thực hành nhập xuất dữ liệu & chuỗi\n",
    "\n",
    "### Bài tập tra cứu lệnh\n",
    "\n",
    "Nhập vào một chuỗi, kiểm tra xem chuỗi đó có ký tự nào là chữ in hoa hay không, nếu có thì in True, không có thì in False"
   ]
  },
  {
   "cell_type": "code",
   "execution_count": 3,
   "id": "4b3df2ba",
   "metadata": {},
   "outputs": [
    {
     "name": "stdout",
     "output_type": "stream",
     "text": [
      "Nhập vào một chuỗi :Năm sáu bảy tám\n",
      "True\n"
     ]
    }
   ],
   "source": [
    "a = input(\"Nhập vào một chuỗi :\")\n",
    "b =not a.islower() and not a.isdigit()\n",
    "print(b)"
   ]
  },
  {
   "cell_type": "markdown",
   "id": "e14eae7c",
   "metadata": {},
   "source": [
    "Nhập vào một chuỗi, kiểm tra xem chuỗi đó có ký tự nào là chữ in thường hay không, nếu có thì in True, không có thì in False"
   ]
  },
  {
   "cell_type": "code",
   "execution_count": 4,
   "id": "ab00180c",
   "metadata": {},
   "outputs": [
    {
     "name": "stdout",
     "output_type": "stream",
     "text": [
      "Nhập vào một chuỗi :Năm sáu bảy tám 123\n",
      "True\n"
     ]
    }
   ],
   "source": [
    "a = input(\"Nhập vào một chuỗi :\")\n",
    "b =not a.isupper() and not a.isdigit()\n",
    "print(b)"
   ]
  },
  {
   "cell_type": "markdown",
   "id": "eab86ecf",
   "metadata": {},
   "source": [
    "Nhập vào một chuỗi a và chuỗi b, tìm vị trí đầu tiên xuất hiện chuỗi b trong chuỗi a"
   ]
  },
  {
   "cell_type": "code",
   "execution_count": 6,
   "id": "051eb4af",
   "metadata": {
    "scrolled": true
   },
   "outputs": [
    {
     "name": "stdout",
     "output_type": "stream",
     "text": [
      "Nhập vào chuỗi a: hai ba bon\n",
      "Nhập vào chuỗi b: hai\n",
      "Vị trí đầu tiên xuất hiện chuỗi b trong chuỗi a: 0\n"
     ]
    }
   ],
   "source": [
    "a = input(\"Nhập vào chuỗi a: \")\n",
    "b = input(\"Nhập vào chuỗi b: \")\n",
    "c = a.find(b)\n",
    "print(\"Vị trí đầu tiên xuất hiện chuỗi b trong chuỗi a:\",c)"
   ]
  },
  {
   "cell_type": "markdown",
   "id": "9239bc4e",
   "metadata": {},
   "source": [
    "Nhập vào một chuỗi a, hãy xóa từ đầu tiên trong chuỗi a, rồi in ra màn hình"
   ]
  },
  {
   "cell_type": "code",
   "execution_count": 5,
   "id": "90967cd9",
   "metadata": {},
   "outputs": [
    {
     "name": "stdout",
     "output_type": "stream",
     "text": [
      "Nhập chuỗi a : Nam sau bay\n",
      "sau bay\n"
     ]
    }
   ],
   "source": [
    "a = input(\"Nhập chuỗi a : \")\n",
    "b = a.find(\" \")\n",
    "c = a[b+1:]\n",
    "print(c)"
   ]
  },
  {
   "cell_type": "markdown",
   "id": "05b74fb4",
   "metadata": {},
   "source": [
    "### Bài 1\n",
    "\n",
    "Nhập vào một chuỗi, đếm xem có bao nhiêu từ trong chuỗi kết thúc bằng chữ n"
   ]
  },
  {
   "cell_type": "code",
   "execution_count": 2,
   "id": "d126675c",
   "metadata": {},
   "outputs": [
    {
     "name": "stdout",
     "output_type": "stream",
     "text": [
      "Nhập vào một chuỗi: Xin chào các bạn xin chào mọi người các bạn khỏe không các bạn\n",
      "5\n"
     ]
    }
   ],
   "source": [
    "# Xin chào các bạn xin chào mọi người các bạn khỏe không các bạn\n",
    "chuoi = input(\"Nhập vào một chuỗi: \")\n",
    "chuoi += \" \"\n",
    "sotu = chuoi.count(\"n \") + chuoi.count(\"n,\") + chuoi.count(\"n.\") + chuoi.count(\"n!\")\n",
    "print(sotu)"
   ]
  },
  {
   "cell_type": "code",
   "execution_count": 3,
   "id": "aa9faf39",
   "metadata": {},
   "outputs": [
    {
     "name": "stdout",
     "output_type": "stream",
     "text": [
      "Nhập vào một chuỗi: Xin chào các bạn xin chào mọi người các bạn khỏe không các bạn\n",
      "5\n"
     ]
    }
   ],
   "source": [
    "# Xin chào các bạn xin chào mọi người các bạn khỏe không các bạn\n",
    "chuoi = input(\"Nhập vào một chuỗi: \")\n",
    "vitri = chuoi.rfind(\" \") ## Tìm khoảng trắng cuối cùng\n",
    "tucuoicung = chuoi[vitri+1:]\n",
    "sotu = chuoi.count(\"n \") + tucuoicung[-1].count(\"n\")\n",
    "print(sotu)"
   ]
  },
  {
   "cell_type": "markdown",
   "id": "53a78d35",
   "metadata": {},
   "source": [
    "### Bài 2\n",
    "\n",
    "Nhập vào một chuỗi, kiểm tra xem chuỗi đó có ký tự hoa hoặc ký tự thường hay không."
   ]
  },
  {
   "cell_type": "code",
   "execution_count": 4,
   "id": "f5be8c39",
   "metadata": {},
   "outputs": [
    {
     "name": "stdout",
     "output_type": "stream",
     "text": [
      "Nhập vào một chuỗi: Xin chào các bạn xin chào mọi người các bạn khỏe không các bạn\n",
      "True\n"
     ]
    }
   ],
   "source": [
    "chuoi = input(\"Nhập vào một chuỗi: \")\n",
    "ketqua = not chuoi.isupper() and not chuoi.islower() and not chuoi.isdigit()\n",
    "print(ketqua)"
   ]
  },
  {
   "cell_type": "code",
   "execution_count": 5,
   "id": "668dfea1",
   "metadata": {},
   "outputs": [
    {
     "name": "stdout",
     "output_type": "stream",
     "text": [
      "Nhập vào một chuỗi: Xin chào các bạn xin chào mọi người các bạn khỏe không các bạn\n",
      "False\n",
      "False\n"
     ]
    }
   ],
   "source": [
    "chuoi = input(\"Nhập vào một chuỗi: \")\n",
    "ketqua = chuoi.upper() == chuoi\n",
    "print(chuoi.isupper())\n",
    "print(ketqua)"
   ]
  },
  {
   "cell_type": "code",
   "execution_count": 6,
   "id": "4eabe15d",
   "metadata": {},
   "outputs": [
    {
     "name": "stdout",
     "output_type": "stream",
     "text": [
      "Nhập vào một chuỗi:Xin chào các bạn xin chào mọi người các bạn khỏe không các bạn\n",
      "True\n"
     ]
    }
   ],
   "source": [
    "chuoi = input(\"Nhập vào một chuỗi:\")\n",
    "chuoi = chuoi.upper()\n",
    "print(chuoi.isupper())"
   ]
  },
  {
   "cell_type": "code",
   "execution_count": 7,
   "id": "0a2c8302",
   "metadata": {},
   "outputs": [
    {
     "name": "stdout",
     "output_type": "stream",
     "text": [
      "Nhập vào một chuỗi:Xin chào các bạn xin chào mọi người các bạn khỏe không các bạn\n",
      "True\n"
     ]
    }
   ],
   "source": [
    "chuoi = input(\"Nhập vào một chuỗi:\")\n",
    "k = 0\n",
    "count = 0\n",
    "for i in range(len(chuoi)):\n",
    "    if chuoi[k].isalpha():\n",
    "        count += 1\n",
    "    k += 1\n",
    "print(count >= 1)"
   ]
  },
  {
   "cell_type": "markdown",
   "id": "64ca662e",
   "metadata": {},
   "source": [
    "### Bài 3\n",
    "\n",
    "Nhập vào một chuỗi, kiểm tra tính đối xứng của chuỗi đó"
   ]
  },
  {
   "cell_type": "code",
   "execution_count": 9,
   "id": "749f4136",
   "metadata": {},
   "outputs": [
    {
     "name": "stdout",
     "output_type": "stream",
     "text": [
      "Nhập vào một chuỗi:1234321\n",
      "True\n"
     ]
    }
   ],
   "source": [
    "chuoi = input(\"Nhập vào một chuỗi:\")\n",
    "k = 0\n",
    "h = -1\n",
    "count = 0\n",
    "for i in range(len(chuoi)//2):\n",
    "    sosanh = chuoi[h] == chuoi[k] ## Trả về True hoặc là False\n",
    "    count += sosanh ## True sẽ là 1 và False sẽ là 0\n",
    "print(count == len(chuoi)//2)"
   ]
  },
  {
   "cell_type": "code",
   "execution_count": 10,
   "id": "3732d4a6",
   "metadata": {},
   "outputs": [
    {
     "name": "stdout",
     "output_type": "stream",
     "text": [
      "Nhập vào một chuỗi:1234321\n",
      "True\n"
     ]
    }
   ],
   "source": [
    "chuoi = input(\"Nhập vào một chuỗi:\")\n",
    "chuoinguoc = chuoi[::-1]\n",
    "print(chuoi == chuoinguoc)"
   ]
  },
  {
   "cell_type": "code",
   "execution_count": 11,
   "id": "ed4ec3fa",
   "metadata": {
    "scrolled": true
   },
   "outputs": [
    {
     "name": "stdout",
     "output_type": "stream",
     "text": [
      "Nhập vào một chuỗi:1234321\n",
      "True\n"
     ]
    }
   ],
   "source": [
    "chuoi = input(\"Nhập vào một chuỗi:\")\n",
    "h = 0\n",
    "k = -1\n",
    "count = 0\n",
    "motnuachuoi = len(chuoi)//2\n",
    "for i in range(motnuachuoi):\n",
    "    sosanh = chuoi[h] == chuoi[k] # đáp áp sẽ là true hoặc là false\n",
    "    count += sosanh # true sẽ là 1 và false sẽ là 0\n",
    "    h += 1\n",
    "    k -= 1\n",
    "print(count == motnuachuoi)"
   ]
  },
  {
   "cell_type": "markdown",
   "id": "85dd8fef",
   "metadata": {},
   "source": [
    "### Bài 4\n",
    "\n",
    "Nhập vào một chuỗi, in ra các ký tự trong chuỗi và nếu là ký tự hoa thì in kèm True, ký tự thường thì in kèm False"
   ]
  },
  {
   "cell_type": "code",
   "execution_count": 1,
   "id": "0d099247",
   "metadata": {},
   "outputs": [
    {
     "name": "stdout",
     "output_type": "stream",
     "text": [
      "Nhập vào chuỗi:Xin Chaof\n",
      "X True\n",
      "i False\n",
      "n False\n",
      "  False\n",
      "C True\n",
      "h False\n",
      "a False\n",
      "o False\n",
      "f False\n"
     ]
    }
   ],
   "source": [
    "chuoi = input(\"Nhập vào chuỗi:\")\n",
    "k = 0\n",
    "for i in range(len(chuoi)):\n",
    "    print(chuoi[k],chuoi[k].isupper())\n",
    "    k += 1"
   ]
  },
  {
   "cell_type": "markdown",
   "id": "1373dc74",
   "metadata": {},
   "source": [
    "### Bài 5\n",
    "\n",
    "Nhập vào một chuỗi, tìm các ký tự chỉ xuất hiện một lần trong chuỗi (nếu xuất hiện 1 lần in true, xuất hiện nhiều lần in false)\n",
    "\n",
    "Ví dụ:\n",
    "\n",
    "Nhập chuỗi: \"ABAbc\"\n",
    "\n",
    "In:\n",
    "\n",
    "A: False\n",
    "\n",
    "B: True\n",
    "\n",
    "A: False\n",
    "\n",
    "b: True\n",
    "\n",
    "c: True"
   ]
  },
  {
   "cell_type": "code",
   "execution_count": 1,
   "id": "a93bc53d",
   "metadata": {},
   "outputs": [
    {
     "name": "stdout",
     "output_type": "stream",
     "text": [
      "Nhập vào chuỗi:hahhaao\n",
      "h False\n",
      "a False\n",
      "h False\n",
      "h False\n",
      "a False\n",
      "a False\n",
      "o True\n"
     ]
    }
   ],
   "source": [
    "chuoi = input(\"Nhập vào chuỗi:\")\n",
    "k = 0\n",
    "for i in range(len(chuoi)):\n",
    "    print(chuoi[k],chuoi.count(chuoi[k]) == 1)\n",
    "    k += 1"
   ]
  },
  {
   "cell_type": "markdown",
   "id": "69bebf4c",
   "metadata": {},
   "source": [
    "### Bài 6\n",
    "\n",
    "Nhập vào một chuỗi, kiểm tra trong chuỗi có con số hay không, nếu có in True, không có in False"
   ]
  },
  {
   "cell_type": "code",
   "execution_count": 2,
   "id": "1b4eab4f",
   "metadata": {},
   "outputs": [
    {
     "name": "stdout",
     "output_type": "stream",
     "text": [
      "\u0007\n"
     ]
    }
   ],
   "source": []
  },
  {
   "cell_type": "markdown",
   "id": "1e51403c",
   "metadata": {},
   "source": [
    "### Bài 7\n",
    "\n",
    "Nhập vào một chuỗi, tách những con số có trong chuỗi ra rồi tính tổng của chúng\n",
    "\n",
    "In tổng lên màn hình"
   ]
  },
  {
   "cell_type": "code",
   "execution_count": null,
   "id": "a34e349d",
   "metadata": {},
   "outputs": [],
   "source": []
  },
  {
   "cell_type": "markdown",
   "id": "e951779d",
   "metadata": {},
   "source": [
    "### Bài 8\n",
    "\n",
    "Nhập vào một chuỗi, đảo ngược chuỗi đã nhập rồi in ra màn hình"
   ]
  },
  {
   "cell_type": "code",
   "execution_count": null,
   "id": "9305f0f1",
   "metadata": {},
   "outputs": [],
   "source": []
  },
  {
   "cell_type": "markdown",
   "id": "04194b5c",
   "metadata": {},
   "source": [
    "### Bài 9\n",
    "\n",
    "Nhập vào một chuỗi, kiểm tra xem mỗi từ trong chuỗi có được viết hoa chữ cái đầu hay không, nếu tất cả đều được viết hoa thì in ra True, còn không thì in ra False\n",
    "\n",
    "Trong trường hợp là False, hãy viết hoa tất cả các chữ cái đầu của mỗi từ rồi in lên màn hình\n",
    "\n",
    "Cách làm thông thường:"
   ]
  },
  {
   "cell_type": "code",
   "execution_count": null,
   "id": "9f947c7d",
   "metadata": {},
   "outputs": [],
   "source": []
  },
  {
   "cell_type": "markdown",
   "id": "f43e32af",
   "metadata": {},
   "source": [
    "Cách sử dụng lệnh có sẵn:"
   ]
  },
  {
   "cell_type": "code",
   "execution_count": null,
   "id": "714f1412",
   "metadata": {},
   "outputs": [],
   "source": []
  }
 ],
 "metadata": {
  "kernelspec": {
   "display_name": "Python 3 (ipykernel)",
   "language": "python",
   "name": "python3"
  },
  "language_info": {
   "codemirror_mode": {
    "name": "ipython",
    "version": 3
   },
   "file_extension": ".py",
   "mimetype": "text/x-python",
   "name": "python",
   "nbconvert_exporter": "python",
   "pygments_lexer": "ipython3",
   "version": "3.10.4"
  }
 },
 "nbformat": 4,
 "nbformat_minor": 5
}
